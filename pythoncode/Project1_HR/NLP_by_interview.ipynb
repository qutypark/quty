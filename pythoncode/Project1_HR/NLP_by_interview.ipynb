{
 "cells": [
  {
   "cell_type": "code",
   "execution_count": 109,
   "metadata": {},
   "outputs": [],
   "source": [
    "# imort library\n",
    "\n",
    "import numpy as np\n",
    "import pandas as pd\n",
    "import re\n",
    "\n",
    "from scipy import stats\n",
    "import statsmodels.api as smz\n",
    "import statsmodels.formula.api as smf\n",
    "\n",
    "from sklearn import preprocessing \n",
    "\n",
    "import matplotlib.pyplot as plt\n",
    "import japanize_matplotlib   \n",
    "\n",
    "%matplotlib inline \n",
    "import seaborn as sns\n",
    "plt.style.use(\"ggplot\")\n",
    "pd.set_option(\"display.max_columns\",None)"
   ]
  },
  {
   "cell_type": "code",
   "execution_count": 99,
   "metadata": {},
   "outputs": [],
   "source": [
    "#------------------ 0. read data ----------------------\n",
    "# purpose: analyze word of cv document from applicants who passed final interview process\n",
    "\n",
    "df=pd.read_csv(\"C:/local.csv\",encoding=\"cp932\",dtype=\"str\")"
   ]
  },
  {
   "cell_type": "code",
   "execution_count": 100,
   "metadata": {},
   "outputs": [],
   "source": [
    "#------------------ 1. data cleansing  ----------------------\n",
    "# get unique list to drop the variances which is not meaningful(has less than 1 unique data)\n",
    "uni=df.nunique()\n",
    "uni01=uni[uni<=1].index.values.tolist()\n",
    "df01New=df.drop(columns=uni01)"
   ]
  },
  {
   "cell_type": "code",
   "execution_count": 104,
   "metadata": {},
   "outputs": [
    {
     "data": {
      "text/plain": [
       "array(['ID', 'test', 'PF_sc1', 'PF_lib1', 'PF_sc2', 'PF_lib2', 'PF_scL',\n",
       "       'PF_libL', 'value', 'goal'], dtype=object)"
      ]
     },
     "execution_count": 104,
     "metadata": {},
     "output_type": "execute_result"
    }
   ],
   "source": [
    "# cv documents: value, goal  / PassFail on inverview process(separated by major):   'PF_sc1', 'PF_lib1'...\n",
    "df01New.columns.values"
   ]
  },
  {
   "cell_type": "code",
   "execution_count": 30,
   "metadata": {},
   "outputs": [],
   "source": [
    "#------------------ 2. Feature Engineering  ----------------------"
   ]
  },
  {
   "cell_type": "code",
   "execution_count": 13,
   "metadata": {},
   "outputs": [],
   "source": [
    "# 1) label encoding for categorical data \n",
    "# Pass・Fail・etc・Nan -> to numeric"
   ]
  },
  {
   "cell_type": "code",
   "execution_count": 123,
   "metadata": {},
   "outputs": [],
   "source": [
    "# since expression pass or fail is located in between character  '【' -> split it\n",
    "# only for PassFail on inverview process\n",
    "df01New=df01New.fillna(\"\")\n",
    "for i in ['PF_sc1', 'PF_lib1', 'PF_sc2', 'PF_lib2', 'PF_scL','PF_libL']:\n",
    "    df01New[i]=df01New[i].apply(lambda x:\"N\" if x==\"\" else x.split('【')[0])"
   ]
  },
  {
   "cell_type": "code",
   "execution_count": 128,
   "metadata": {},
   "outputs": [],
   "source": [
    "for i in ['test','PF_sc1', 'PF_lib1', 'PF_sc2', 'PF_lib2', 'PF_scL','PF_libL']:\n",
    "    df01New[i]=df01New[i].map(lambda x: 2 if x==\"pass\" else 1 if x==\"resign\" else 0) "
   ]
  },
  {
   "cell_type": "code",
   "execution_count": 130,
   "metadata": {},
   "outputs": [],
   "source": [
    "# 2) integrate pass/fail column  because each pass/fail result is separated by major of applicant\n",
    "def PF_1(row): # for first interview\n",
    "    if row['PF_sc1']==2 or row['PF_lib1']==2:\n",
    "        return(2)\n",
    "    if row['PF_sc1']==1 or row['PF_lib1']==1:\n",
    "        return(1)\n",
    "    if row['PF_sc1']==0 or row['PF_lib1']==0:\n",
    "        return(0)\n",
    "def PF_2(row): # for second interview\n",
    "    if row['PF_sc2']==2 or row['PF_lib2']==2:\n",
    "        return(2)\n",
    "    if row['PF_sc2']==1 or row['PF_lib2']==1:\n",
    "        return(1)\n",
    "    if row['PF_sc2']==0 or row['PF_lib2']==0:\n",
    "        return(0)\n",
    "def PF_L(row): # for last(final) interview\n",
    "    if row['PF_scL']==2 or row['PF_libL']==2:\n",
    "        return(2)\n",
    "    if row['PF_scL']==1 or row['PF_libL']==1:\n",
    "        return(1)\n",
    "    if row['PF_scL']==0 or row['PF_libL']==0:\n",
    "        return(0)   "
   ]
  },
  {
   "cell_type": "code",
   "execution_count": 131,
   "metadata": {},
   "outputs": [],
   "source": [
    "df01New[\"PF_1\"] = df01New.apply (lambda row: PF_1(row), axis=1)  # for first interview\n",
    "df01New[\"PF_2\"] = df01New.apply (lambda row: PF_2(row), axis=1)  # for second interview\n",
    "df01New[\"PF_L\"] = df01New.apply (lambda row: PF_L(row), axis=1)  # for last(final) interview\n",
    "\n",
    "#drop old columns which is not needed\n",
    "df01New=df01New.drop(columns=['PF_sc1', 'PF_lib1', 'PF_sc2', 'PF_lib2', 'PF_scL','PF_libL'])"
   ]
  },
  {
   "cell_type": "code",
   "execution_count": null,
   "metadata": {},
   "outputs": [],
   "source": [
    "#------------------ 3. NLP  ----------------------"
   ]
  },
  {
   "cell_type": "code",
   "execution_count": 134,
   "metadata": {},
   "outputs": [],
   "source": [
    "#import library for japanese\n",
    "from janome.tokenizer import Tokenizer\n",
    "from janome.analyzer import Analyzer\n",
    "from janome.charfilter import *\n",
    "from janome.tokenfilter import *"
   ]
  },
  {
   "cell_type": "code",
   "execution_count": 138,
   "metadata": {},
   "outputs": [],
   "source": [
    "# specified condition for nlp\n",
    "# filter mark such as .,\n",
    "char_filters = [UnicodeNormalizeCharFilter(),\n",
    "                RegexReplaceCharFilter('<.*?>', '')]\n",
    "# mainly keep language which is Noun(= \"名詞\" in japanese) \n",
    "token_filters = [POSKeepFilter(['名詞']),\n",
    "                 LowerCaseFilter(),\n",
    "                 ExtractAttributeFilter('surface')]\n",
    "a = Analyzer(char_filters=char_filters, token_filters=token_filters)"
   ]
  },
  {
   "cell_type": "code",
   "execution_count": 145,
   "metadata": {},
   "outputs": [],
   "source": [
    "# for example) split data by result of final(last) interview\n",
    "copyp=df01New[df01New[\"PF_L\"]==2].reset_index() # pass\n",
    "copyn=df01New[df01New[\"PF_L\"]==1].reset_index() # resign\n",
    "copyf=df01New[df01New[\"PF_L\"]==0].reset_index() # fail"
   ]
  },
  {
   "cell_type": "code",
   "execution_count": 144,
   "metadata": {
    "scrolled": true
   },
   "outputs": [],
   "source": [
    "# pass = result of final(last) interview\n",
    "resultp=[]\n",
    "for i in range(copyp.shape[0]):\n",
    "    for x in a.analyze(copyp['value'][i]):\n",
    "        resultp.append(x)\n",
    "# resign = result of final(last) interview\n",
    "resultn=[]\n",
    "for i in range(copyn.shape[0]):\n",
    "     for x in a.analyze(copyn[\"value\"][i]):\n",
    "        resultn.append(x)\n",
    "# fail = result of final(last) interview\n",
    "resultf=[]\n",
    "for i in range(copyf.shape[0]):\n",
    "    for x in a.analyze(copyf[\"value\"][i]):\n",
    "        resultf.append(x)"
   ]
  },
  {
   "cell_type": "code",
   "execution_count": 149,
   "metadata": {},
   "outputs": [],
   "source": [
    "# make dictionary\n",
    "from collections import Counter\n",
    "\n",
    "word_dictP=dict(Counter(resultp))\n",
    "word_dictN=dict(Counter(resultn))\n",
    "word_dictF=dict(Counter(resultf))"
   ]
  },
  {
   "cell_type": "code",
   "execution_count": 150,
   "metadata": {},
   "outputs": [],
   "source": [
    "# convert Dictionary to dataframe for word count\n",
    "\n",
    "# pass\n",
    "textP= pd.Series(word_dictP, name='textcount')\n",
    "textP.index.name=\"value\"\n",
    "textP= textP.reset_index()\n",
    "\n",
    "# resign\n",
    "textN= pd.Series(word_dictN, name='textcount')\n",
    "textN.index.name=\"value\"\n",
    "textN= textN.reset_index()\n",
    "\n",
    "# fail\n",
    "textF= pd.Series(word_dictF, name='textcount')\n",
    "textF.index.name=\"value\"\n",
    "textF= textF.reset_index()"
   ]
  },
  {
   "cell_type": "code",
   "execution_count": 152,
   "metadata": {},
   "outputs": [
    {
     "data": {
      "text/html": [
       "<div>\n",
       "<style scoped>\n",
       "    .dataframe tbody tr th:only-of-type {\n",
       "        vertical-align: middle;\n",
       "    }\n",
       "\n",
       "    .dataframe tbody tr th {\n",
       "        vertical-align: top;\n",
       "    }\n",
       "\n",
       "    .dataframe thead th {\n",
       "        text-align: right;\n",
       "    }\n",
       "</style>\n",
       "<table border=\"1\" class=\"dataframe\">\n",
       "  <thead>\n",
       "    <tr style=\"text-align: right;\">\n",
       "      <th></th>\n",
       "      <th>value</th>\n",
       "      <th>textcount</th>\n",
       "    </tr>\n",
       "  </thead>\n",
       "  <tbody>\n",
       "    <tr>\n",
       "      <th>3</th>\n",
       "      <td>こと</td>\n",
       "      <td>193</td>\n",
       "    </tr>\n",
       "    <tr>\n",
       "      <th>0</th>\n",
       "      <td>私</td>\n",
       "      <td>80</td>\n",
       "    </tr>\n",
       "  </tbody>\n",
       "</table>\n",
       "</div>"
      ],
      "text/plain": [
       "  value  textcount\n",
       "3    こと        193\n",
       "0     私         80"
      ]
     },
     "execution_count": 152,
     "metadata": {},
     "output_type": "execute_result"
    }
   ],
   "source": [
    "#check word count used by applicants who passed last(final) interview\n",
    "# for example(which is dummy): \"こと\"　is top and \"私\" is second\n",
    "textP.sort_values(by=['textcount'],ascending=False).head(2)"
   ]
  },
  {
   "cell_type": "code",
   "execution_count": 60,
   "metadata": {},
   "outputs": [],
   "source": [
    "#------------------ 4. word cloud  ----------------------"
   ]
  },
  {
   "cell_type": "code",
   "execution_count": 153,
   "metadata": {},
   "outputs": [],
   "source": [
    "from wordcloud import WordCloud, STOPWORDS\n",
    "from PIL import Image"
   ]
  },
  {
   "cell_type": "code",
   "execution_count": 154,
   "metadata": {},
   "outputs": [
    {
     "data": {
      "text/plain": [
       "<matplotlib.image.AxesImage at 0x2022121be10>"
      ]
     },
     "execution_count": 154,
     "metadata": {},
     "output_type": "execute_result"
    },
    {
     "data": {
      "image/png": "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\n",
      "text/plain": [
       "<Figure size 432x288 with 1 Axes>"
      ]
     },
     "metadata": {},
     "output_type": "display_data"
    }
   ],
   "source": [
    "wc = WordCloud(background_color=\"white\",width=500,height=500, max_words=10,relative_scaling=0.5,normalize_plurals=False).generate_from_frequencies(word_dictP)\n",
    "plt.imshow(wc)\n",
   ]
  },
  {
   "cell_type": "code",
   "execution_count": null,
   "metadata": {},
   "outputs": [],
   "source": []
  }
 ],
 "metadata": {
  "kernelspec": {
   "display_name": "Python 3",
   "language": "python",
   "name": "python3"
  },
  "language_info": {
   "codemirror_mode": {
    "name": "ipython",
    "version": 3
   },
   "file_extension": ".py",
   "mimetype": "text/x-python",
   "name": "python",
   "nbconvert_exporter": "python",
   "pygments_lexer": "ipython3",
   "version": "3.7.0"
  }
 },
 "nbformat": 4,
 "nbformat_minor": 2
}
